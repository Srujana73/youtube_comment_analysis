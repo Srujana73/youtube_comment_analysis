{
  "nbformat": 4,
  "nbformat_minor": 0,
  "metadata": {
    "colab": {
      "name": "comment_analysis.ipynb",
      "provenance": [],
      "collapsed_sections": []
    },
    "kernelspec": {
      "name": "python3",
      "display_name": "Python 3"
    },
    "language_info": {
      "name": "python"
    }
  },
  "cells": [
    {
      "cell_type": "code",
      "execution_count": 101,
      "metadata": {
        "id": "QtgcZpLK5lJx"
      },
      "outputs": [],
      "source": [
        "import numpy as np\n",
        "import pandas as pd"
      ]
    },
    {
      "cell_type": "code",
      "source": [
        "data = pd.read_csv(\"/content/data.csv\")"
      ],
      "metadata": {
        "id": "MufwVsOMszhy"
      },
      "execution_count": 102,
      "outputs": []
    },
    {
      "cell_type": "code",
      "source": [
        "data.shape"
      ],
      "metadata": {
        "colab": {
          "base_uri": "https://localhost:8080/"
        },
        "id": "g6Gv1NdVs8DJ",
        "outputId": "8a4e08bf-b576-4829-e1ab-8b9f92941457"
      },
      "execution_count": 103,
      "outputs": [
        {
          "output_type": "execute_result",
          "data": {
            "text/plain": [
              "(11391, 3)"
            ]
          },
          "metadata": {},
          "execution_count": 103
        }
      ]
    },
    {
      "cell_type": "code",
      "source": [
        "data.info()"
      ],
      "metadata": {
        "colab": {
          "base_uri": "https://localhost:8080/"
        },
        "id": "AF2ruxhotGbU",
        "outputId": "ff95eaee-3d12-4e6d-82e9-092c6312016e"
      },
      "execution_count": 104,
      "outputs": [
        {
          "output_type": "stream",
          "name": "stdout",
          "text": [
            "<class 'pandas.core.frame.DataFrame'>\n",
            "RangeIndex: 11391 entries, 0 to 11390\n",
            "Data columns (total 3 columns):\n",
            " #   Column        Non-Null Count  Dtype \n",
            "---  ------        --------------  ----- \n",
            " 0   Unnamed: 0    11391 non-null  int64 \n",
            " 1   Unnamed: 0.1  11391 non-null  int64 \n",
            " 2   0             11241 non-null  object\n",
            "dtypes: int64(2), object(1)\n",
            "memory usage: 267.1+ KB\n"
          ]
        }
      ]
    },
    {
      "cell_type": "code",
      "source": [
        "data.drop(['Unnamed: 0','Unnamed: 0.1'], axis = 1, inplace =True)"
      ],
      "metadata": {
        "id": "CTou2YJYtQcw"
      },
      "execution_count": 105,
      "outputs": []
    },
    {
      "cell_type": "code",
      "source": [
        "data.rename(columns={'0':\"Comments\"}, inplace=True)"
      ],
      "metadata": {
        "id": "YDRjhhLYutXf"
      },
      "execution_count": 106,
      "outputs": []
    },
    {
      "cell_type": "code",
      "source": [
        "data.head()"
      ],
      "metadata": {
        "colab": {
          "base_uri": "https://localhost:8080/",
          "height": 204
        },
        "id": "YBHM-gq6u739",
        "outputId": "5c273168-fe82-49d1-b31e-3ae89519d5c9"
      },
      "execution_count": 107,
      "outputs": [
        {
          "output_type": "execute_result",
          "data": {
            "text/plain": [
              "                                            Comments\n",
              "0  Doctor Strange is easily Marvel's most powerfu...\n",
              "1  The lyrics really fits Doctor Strange\\n\\n\"I wa...\n",
              "2                         Some songs never gets old \n",
              "3  This song never gets old. No matter how much I...\n",
              "4  2008 : we got a legend\\n2016 : we got another ..."
            ],
            "text/html": [
              "\n",
              "  <div id=\"df-e7927f5d-0df2-4346-9a45-26c7824365a0\">\n",
              "    <div class=\"colab-df-container\">\n",
              "      <div>\n",
              "<style scoped>\n",
              "    .dataframe tbody tr th:only-of-type {\n",
              "        vertical-align: middle;\n",
              "    }\n",
              "\n",
              "    .dataframe tbody tr th {\n",
              "        vertical-align: top;\n",
              "    }\n",
              "\n",
              "    .dataframe thead th {\n",
              "        text-align: right;\n",
              "    }\n",
              "</style>\n",
              "<table border=\"1\" class=\"dataframe\">\n",
              "  <thead>\n",
              "    <tr style=\"text-align: right;\">\n",
              "      <th></th>\n",
              "      <th>Comments</th>\n",
              "    </tr>\n",
              "  </thead>\n",
              "  <tbody>\n",
              "    <tr>\n",
              "      <th>0</th>\n",
              "      <td>Doctor Strange is easily Marvel's most powerfu...</td>\n",
              "    </tr>\n",
              "    <tr>\n",
              "      <th>1</th>\n",
              "      <td>The lyrics really fits Doctor Strange\\n\\n\"I wa...</td>\n",
              "    </tr>\n",
              "    <tr>\n",
              "      <th>2</th>\n",
              "      <td>Some songs never gets old</td>\n",
              "    </tr>\n",
              "    <tr>\n",
              "      <th>3</th>\n",
              "      <td>This song never gets old. No matter how much I...</td>\n",
              "    </tr>\n",
              "    <tr>\n",
              "      <th>4</th>\n",
              "      <td>2008 : we got a legend\\n2016 : we got another ...</td>\n",
              "    </tr>\n",
              "  </tbody>\n",
              "</table>\n",
              "</div>\n",
              "      <button class=\"colab-df-convert\" onclick=\"convertToInteractive('df-e7927f5d-0df2-4346-9a45-26c7824365a0')\"\n",
              "              title=\"Convert this dataframe to an interactive table.\"\n",
              "              style=\"display:none;\">\n",
              "        \n",
              "  <svg xmlns=\"http://www.w3.org/2000/svg\" height=\"24px\"viewBox=\"0 0 24 24\"\n",
              "       width=\"24px\">\n",
              "    <path d=\"M0 0h24v24H0V0z\" fill=\"none\"/>\n",
              "    <path d=\"M18.56 5.44l.94 2.06.94-2.06 2.06-.94-2.06-.94-.94-2.06-.94 2.06-2.06.94zm-11 1L8.5 8.5l.94-2.06 2.06-.94-2.06-.94L8.5 2.5l-.94 2.06-2.06.94zm10 10l.94 2.06.94-2.06 2.06-.94-2.06-.94-.94-2.06-.94 2.06-2.06.94z\"/><path d=\"M17.41 7.96l-1.37-1.37c-.4-.4-.92-.59-1.43-.59-.52 0-1.04.2-1.43.59L10.3 9.45l-7.72 7.72c-.78.78-.78 2.05 0 2.83L4 21.41c.39.39.9.59 1.41.59.51 0 1.02-.2 1.41-.59l7.78-7.78 2.81-2.81c.8-.78.8-2.07 0-2.86zM5.41 20L4 18.59l7.72-7.72 1.47 1.35L5.41 20z\"/>\n",
              "  </svg>\n",
              "      </button>\n",
              "      \n",
              "  <style>\n",
              "    .colab-df-container {\n",
              "      display:flex;\n",
              "      flex-wrap:wrap;\n",
              "      gap: 12px;\n",
              "    }\n",
              "\n",
              "    .colab-df-convert {\n",
              "      background-color: #E8F0FE;\n",
              "      border: none;\n",
              "      border-radius: 50%;\n",
              "      cursor: pointer;\n",
              "      display: none;\n",
              "      fill: #1967D2;\n",
              "      height: 32px;\n",
              "      padding: 0 0 0 0;\n",
              "      width: 32px;\n",
              "    }\n",
              "\n",
              "    .colab-df-convert:hover {\n",
              "      background-color: #E2EBFA;\n",
              "      box-shadow: 0px 1px 2px rgba(60, 64, 67, 0.3), 0px 1px 3px 1px rgba(60, 64, 67, 0.15);\n",
              "      fill: #174EA6;\n",
              "    }\n",
              "\n",
              "    [theme=dark] .colab-df-convert {\n",
              "      background-color: #3B4455;\n",
              "      fill: #D2E3FC;\n",
              "    }\n",
              "\n",
              "    [theme=dark] .colab-df-convert:hover {\n",
              "      background-color: #434B5C;\n",
              "      box-shadow: 0px 1px 3px 1px rgba(0, 0, 0, 0.15);\n",
              "      filter: drop-shadow(0px 1px 2px rgba(0, 0, 0, 0.3));\n",
              "      fill: #FFFFFF;\n",
              "    }\n",
              "  </style>\n",
              "\n",
              "      <script>\n",
              "        const buttonEl =\n",
              "          document.querySelector('#df-e7927f5d-0df2-4346-9a45-26c7824365a0 button.colab-df-convert');\n",
              "        buttonEl.style.display =\n",
              "          google.colab.kernel.accessAllowed ? 'block' : 'none';\n",
              "\n",
              "        async function convertToInteractive(key) {\n",
              "          const element = document.querySelector('#df-e7927f5d-0df2-4346-9a45-26c7824365a0');\n",
              "          const dataTable =\n",
              "            await google.colab.kernel.invokeFunction('convertToInteractive',\n",
              "                                                     [key], {});\n",
              "          if (!dataTable) return;\n",
              "\n",
              "          const docLinkHtml = 'Like what you see? Visit the ' +\n",
              "            '<a target=\"_blank\" href=https://colab.research.google.com/notebooks/data_table.ipynb>data table notebook</a>'\n",
              "            + ' to learn more about interactive tables.';\n",
              "          element.innerHTML = '';\n",
              "          dataTable['output_type'] = 'display_data';\n",
              "          await google.colab.output.renderOutput(dataTable, element);\n",
              "          const docLink = document.createElement('div');\n",
              "          docLink.innerHTML = docLinkHtml;\n",
              "          element.appendChild(docLink);\n",
              "        }\n",
              "      </script>\n",
              "    </div>\n",
              "  </div>\n",
              "  "
            ]
          },
          "metadata": {},
          "execution_count": 107
        }
      ]
    },
    {
      "cell_type": "code",
      "source": [
        "data.isnull().values.any()"
      ],
      "metadata": {
        "colab": {
          "base_uri": "https://localhost:8080/"
        },
        "id": "9yrmahGb9V1K",
        "outputId": "188a3ce0-1ae4-48ee-ae65-a40e40e1eda3"
      },
      "execution_count": 108,
      "outputs": [
        {
          "output_type": "execute_result",
          "data": {
            "text/plain": [
              "True"
            ]
          },
          "metadata": {},
          "execution_count": 108
        }
      ]
    },
    {
      "cell_type": "code",
      "source": [
        "data = data.dropna(how='any', axis=0)"
      ],
      "metadata": {
        "id": "igfM0FGG-JIc"
      },
      "execution_count": 109,
      "outputs": []
    },
    {
      "cell_type": "code",
      "source": [
        "data = data.drop_duplicates()"
      ],
      "metadata": {
        "id": "Aibzs-15-aM6"
      },
      "execution_count": 110,
      "outputs": []
    },
    {
      "cell_type": "code",
      "source": [
        "data.shape"
      ],
      "metadata": {
        "colab": {
          "base_uri": "https://localhost:8080/"
        },
        "id": "tgBKk9zg-1dB",
        "outputId": "a133cdb1-d0a3-4945-e702-daf047fe3d82"
      },
      "execution_count": 111,
      "outputs": [
        {
          "output_type": "execute_result",
          "data": {
            "text/plain": [
              "(11009, 1)"
            ]
          },
          "metadata": {},
          "execution_count": 111
        }
      ]
    },
    {
      "cell_type": "code",
      "source": [
        "data= data.astype(str).apply(lambda x: x.str.encode('ascii', 'ignore').str.decode('ascii'))"
      ],
      "metadata": {
        "id": "KQHFNjctAja7"
      },
      "execution_count": 112,
      "outputs": []
    },
    {
      "cell_type": "code",
      "source": [
        "data[\"Comments\"] = data[\"Comments\"].str.lower()"
      ],
      "metadata": {
        "id": "g1Hw8csABD9Z"
      },
      "execution_count": 113,
      "outputs": []
    },
    {
      "cell_type": "code",
      "source": [
        "data[\"Comments\"] = data[\"Comments\"].str.replace('\\n','')\n",
        "data[\"Comments\"] = data[\"Comments\"].str.replace('\\t', ' ')"
      ],
      "metadata": {
        "id": "qLsJjwdIB0O6"
      },
      "execution_count": 114,
      "outputs": []
    },
    {
      "cell_type": "code",
      "source": [
        "data[\"Comments\"] = data[\"Comments\"].str.replace(' {2,}', ' ', regex=True)\n",
        "data[\"Comments\"] = data[\"Comments\"].str.strip()"
      ],
      "metadata": {
        "id": "bi7sf5xjEROZ"
      },
      "execution_count": 115,
      "outputs": []
    },
    {
      "cell_type": "code",
      "source": [
        "!pip install langdetect\n",
        "from langdetect import detect"
      ],
      "metadata": {
        "colab": {
          "base_uri": "https://localhost:8080/"
        },
        "id": "4t3o4iuCF9cH",
        "outputId": "0fd9e91c-f260-443e-d29c-d6f85441b151"
      },
      "execution_count": 116,
      "outputs": [
        {
          "output_type": "stream",
          "name": "stdout",
          "text": [
            "Requirement already satisfied: langdetect in /usr/local/lib/python3.7/dist-packages (1.0.9)\n",
            "Requirement already satisfied: six in /usr/local/lib/python3.7/dist-packages (from langdetect) (1.15.0)\n"
          ]
        }
      ]
    },
    {
      "cell_type": "code",
      "source": [
        "\n",
        "data[\"language\"] = 0\n",
        "for i in range(0,len(data[\"Comments\"])):\n",
        "  temp = data[\"Comments\"].iloc[i]\n",
        "  try:\n",
        "    data[\"language\"].iloc[i] = detect(temp)\n",
        "  except:\n",
        "    data[\"language\"].iloc[i] = \"can't detect\""
      ],
      "metadata": {
        "colab": {
          "base_uri": "https://localhost:8080/"
        },
        "id": "10XNFIqSHYkb",
        "outputId": "b1b67032-8d69-4326-bb14-318f49f8c810"
      },
      "execution_count": 117,
      "outputs": [
        {
          "output_type": "stream",
          "name": "stderr",
          "text": [
            "/usr/local/lib/python3.7/dist-packages/pandas/core/indexing.py:1732: SettingWithCopyWarning: \n",
            "A value is trying to be set on a copy of a slice from a DataFrame\n",
            "\n",
            "See the caveats in the documentation: https://pandas.pydata.org/pandas-docs/stable/user_guide/indexing.html#returning-a-view-versus-a-copy\n",
            "  self._setitem_single_block(indexer, value, name)\n"
          ]
        }
      ]
    },
    {
      "cell_type": "code",
      "source": [
        "data.shape"
      ],
      "metadata": {
        "colab": {
          "base_uri": "https://localhost:8080/"
        },
        "id": "72O90mh5Jum6",
        "outputId": "52b261a0-9308-4b1a-b9b1-7983aefd7ba2"
      },
      "execution_count": 118,
      "outputs": [
        {
          "output_type": "execute_result",
          "data": {
            "text/plain": [
              "(11009, 2)"
            ]
          },
          "metadata": {},
          "execution_count": 118
        }
      ]
    },
    {
      "cell_type": "code",
      "source": [
        "data = data.loc[data[\"language\"] == \"en\"]"
      ],
      "metadata": {
        "id": "BCW_GLoAIscY"
      },
      "execution_count": 119,
      "outputs": []
    },
    {
      "cell_type": "code",
      "source": [
        "data.shape"
      ],
      "metadata": {
        "colab": {
          "base_uri": "https://localhost:8080/"
        },
        "id": "u1re8_RBJ0Q5",
        "outputId": "bb57b2b1-d400-46f1-f4ac-de44bbbcd34b"
      },
      "execution_count": 120,
      "outputs": [
        {
          "output_type": "execute_result",
          "data": {
            "text/plain": [
              "(9123, 2)"
            ]
          },
          "metadata": {},
          "execution_count": 120
        }
      ]
    },
    {
      "cell_type": "code",
      "source": [
        "data.drop(columns=[\"language\"],axis=1,inplace=True)"
      ],
      "metadata": {
        "colab": {
          "base_uri": "https://localhost:8080/"
        },
        "id": "b4XIwBmwJ3uD",
        "outputId": "a514b540-309e-4289-b84b-137cc4f5f77f"
      },
      "execution_count": 121,
      "outputs": [
        {
          "output_type": "stream",
          "name": "stderr",
          "text": [
            "/usr/local/lib/python3.7/dist-packages/pandas/core/frame.py:4913: SettingWithCopyWarning: \n",
            "A value is trying to be set on a copy of a slice from a DataFrame\n",
            "\n",
            "See the caveats in the documentation: https://pandas.pydata.org/pandas-docs/stable/user_guide/indexing.html#returning-a-view-versus-a-copy\n",
            "  errors=errors,\n"
          ]
        }
      ]
    },
    {
      "cell_type": "code",
      "source": [
        "data.head()"
      ],
      "metadata": {
        "colab": {
          "base_uri": "https://localhost:8080/",
          "height": 204
        },
        "id": "_UKwMdAIKEx4",
        "outputId": "cf37bb51-a74e-45b9-86bb-0d3e96b95cac"
      },
      "execution_count": 122,
      "outputs": [
        {
          "output_type": "execute_result",
          "data": {
            "text/plain": [
              "                                            Comments\n",
              "0  doctor strange is easily marvel's most powerfu...\n",
              "1  the lyrics really fits doctor strange\"i was br...\n",
              "3  this song never gets old. no matter how much i...\n",
              "4  2008 : we got a legend2016 : we got another le...\n",
              "5  0:53 the scene and music are in sync...the bea..."
            ],
            "text/html": [
              "\n",
              "  <div id=\"df-680d6cb7-ee67-4dbb-b144-c74693546992\">\n",
              "    <div class=\"colab-df-container\">\n",
              "      <div>\n",
              "<style scoped>\n",
              "    .dataframe tbody tr th:only-of-type {\n",
              "        vertical-align: middle;\n",
              "    }\n",
              "\n",
              "    .dataframe tbody tr th {\n",
              "        vertical-align: top;\n",
              "    }\n",
              "\n",
              "    .dataframe thead th {\n",
              "        text-align: right;\n",
              "    }\n",
              "</style>\n",
              "<table border=\"1\" class=\"dataframe\">\n",
              "  <thead>\n",
              "    <tr style=\"text-align: right;\">\n",
              "      <th></th>\n",
              "      <th>Comments</th>\n",
              "    </tr>\n",
              "  </thead>\n",
              "  <tbody>\n",
              "    <tr>\n",
              "      <th>0</th>\n",
              "      <td>doctor strange is easily marvel's most powerfu...</td>\n",
              "    </tr>\n",
              "    <tr>\n",
              "      <th>1</th>\n",
              "      <td>the lyrics really fits doctor strange\"i was br...</td>\n",
              "    </tr>\n",
              "    <tr>\n",
              "      <th>3</th>\n",
              "      <td>this song never gets old. no matter how much i...</td>\n",
              "    </tr>\n",
              "    <tr>\n",
              "      <th>4</th>\n",
              "      <td>2008 : we got a legend2016 : we got another le...</td>\n",
              "    </tr>\n",
              "    <tr>\n",
              "      <th>5</th>\n",
              "      <td>0:53 the scene and music are in sync...the bea...</td>\n",
              "    </tr>\n",
              "  </tbody>\n",
              "</table>\n",
              "</div>\n",
              "      <button class=\"colab-df-convert\" onclick=\"convertToInteractive('df-680d6cb7-ee67-4dbb-b144-c74693546992')\"\n",
              "              title=\"Convert this dataframe to an interactive table.\"\n",
              "              style=\"display:none;\">\n",
              "        \n",
              "  <svg xmlns=\"http://www.w3.org/2000/svg\" height=\"24px\"viewBox=\"0 0 24 24\"\n",
              "       width=\"24px\">\n",
              "    <path d=\"M0 0h24v24H0V0z\" fill=\"none\"/>\n",
              "    <path d=\"M18.56 5.44l.94 2.06.94-2.06 2.06-.94-2.06-.94-.94-2.06-.94 2.06-2.06.94zm-11 1L8.5 8.5l.94-2.06 2.06-.94-2.06-.94L8.5 2.5l-.94 2.06-2.06.94zm10 10l.94 2.06.94-2.06 2.06-.94-2.06-.94-.94-2.06-.94 2.06-2.06.94z\"/><path d=\"M17.41 7.96l-1.37-1.37c-.4-.4-.92-.59-1.43-.59-.52 0-1.04.2-1.43.59L10.3 9.45l-7.72 7.72c-.78.78-.78 2.05 0 2.83L4 21.41c.39.39.9.59 1.41.59.51 0 1.02-.2 1.41-.59l7.78-7.78 2.81-2.81c.8-.78.8-2.07 0-2.86zM5.41 20L4 18.59l7.72-7.72 1.47 1.35L5.41 20z\"/>\n",
              "  </svg>\n",
              "      </button>\n",
              "      \n",
              "  <style>\n",
              "    .colab-df-container {\n",
              "      display:flex;\n",
              "      flex-wrap:wrap;\n",
              "      gap: 12px;\n",
              "    }\n",
              "\n",
              "    .colab-df-convert {\n",
              "      background-color: #E8F0FE;\n",
              "      border: none;\n",
              "      border-radius: 50%;\n",
              "      cursor: pointer;\n",
              "      display: none;\n",
              "      fill: #1967D2;\n",
              "      height: 32px;\n",
              "      padding: 0 0 0 0;\n",
              "      width: 32px;\n",
              "    }\n",
              "\n",
              "    .colab-df-convert:hover {\n",
              "      background-color: #E2EBFA;\n",
              "      box-shadow: 0px 1px 2px rgba(60, 64, 67, 0.3), 0px 1px 3px 1px rgba(60, 64, 67, 0.15);\n",
              "      fill: #174EA6;\n",
              "    }\n",
              "\n",
              "    [theme=dark] .colab-df-convert {\n",
              "      background-color: #3B4455;\n",
              "      fill: #D2E3FC;\n",
              "    }\n",
              "\n",
              "    [theme=dark] .colab-df-convert:hover {\n",
              "      background-color: #434B5C;\n",
              "      box-shadow: 0px 1px 3px 1px rgba(0, 0, 0, 0.15);\n",
              "      filter: drop-shadow(0px 1px 2px rgba(0, 0, 0, 0.3));\n",
              "      fill: #FFFFFF;\n",
              "    }\n",
              "  </style>\n",
              "\n",
              "      <script>\n",
              "        const buttonEl =\n",
              "          document.querySelector('#df-680d6cb7-ee67-4dbb-b144-c74693546992 button.colab-df-convert');\n",
              "        buttonEl.style.display =\n",
              "          google.colab.kernel.accessAllowed ? 'block' : 'none';\n",
              "\n",
              "        async function convertToInteractive(key) {\n",
              "          const element = document.querySelector('#df-680d6cb7-ee67-4dbb-b144-c74693546992');\n",
              "          const dataTable =\n",
              "            await google.colab.kernel.invokeFunction('convertToInteractive',\n",
              "                                                     [key], {});\n",
              "          if (!dataTable) return;\n",
              "\n",
              "          const docLinkHtml = 'Like what you see? Visit the ' +\n",
              "            '<a target=\"_blank\" href=https://colab.research.google.com/notebooks/data_table.ipynb>data table notebook</a>'\n",
              "            + ' to learn more about interactive tables.';\n",
              "          element.innerHTML = '';\n",
              "          dataTable['output_type'] = 'display_data';\n",
              "          await google.colab.output.renderOutput(dataTable, element);\n",
              "          const docLink = document.createElement('div');\n",
              "          docLink.innerHTML = docLinkHtml;\n",
              "          element.appendChild(docLink);\n",
              "        }\n",
              "      </script>\n",
              "    </div>\n",
              "  </div>\n",
              "  "
            ]
          },
          "metadata": {},
          "execution_count": 122
        }
      ]
    },
    {
      "cell_type": "code",
      "source": [
        "data[\"Comments\"] = data[\"Comments\"].replace(r'www\\S+', '', regex=True)\n",
        "data[\"Comments\"] = data[\"Comments\"].replace(r'http\\S+', '', regex=True)"
      ],
      "metadata": {
        "colab": {
          "base_uri": "https://localhost:8080/"
        },
        "id": "7UTQKlv1KJu3",
        "outputId": "fe8ebaac-cc46-48d9-b562-0c29644e6da5"
      },
      "execution_count": 123,
      "outputs": [
        {
          "output_type": "stream",
          "name": "stderr",
          "text": [
            "/usr/local/lib/python3.7/dist-packages/ipykernel_launcher.py:1: SettingWithCopyWarning: \n",
            "A value is trying to be set on a copy of a slice from a DataFrame.\n",
            "Try using .loc[row_indexer,col_indexer] = value instead\n",
            "\n",
            "See the caveats in the documentation: https://pandas.pydata.org/pandas-docs/stable/user_guide/indexing.html#returning-a-view-versus-a-copy\n",
            "  \"\"\"Entry point for launching an IPython kernel.\n",
            "/usr/local/lib/python3.7/dist-packages/ipykernel_launcher.py:2: SettingWithCopyWarning: \n",
            "A value is trying to be set on a copy of a slice from a DataFrame.\n",
            "Try using .loc[row_indexer,col_indexer] = value instead\n",
            "\n",
            "See the caveats in the documentation: https://pandas.pydata.org/pandas-docs/stable/user_guide/indexing.html#returning-a-view-versus-a-copy\n",
            "  \n"
          ]
        }
      ]
    },
    {
      "cell_type": "code",
      "source": [
        "#only to keep alphabets\n",
        "data[\"Comments\"] = data[\"Comments\"].str.replace(\"[^a-zA-Z#]\", \" \")"
      ],
      "metadata": {
        "colab": {
          "base_uri": "https://localhost:8080/"
        },
        "id": "pIOpSeBMRKEV",
        "outputId": "f6f301b7-9551-4b25-aeea-85267d3fa2bd"
      },
      "execution_count": 124,
      "outputs": [
        {
          "output_type": "stream",
          "name": "stderr",
          "text": [
            "/usr/local/lib/python3.7/dist-packages/ipykernel_launcher.py:2: FutureWarning: The default value of regex will change from True to False in a future version.\n",
            "  \n"
          ]
        }
      ]
    },
    {
      "cell_type": "code",
      "source": [
        "data.head()"
      ],
      "metadata": {
        "colab": {
          "base_uri": "https://localhost:8080/",
          "height": 204
        },
        "id": "DwN2xI0vOW_U",
        "outputId": "b46c8fea-2f8b-4cd6-f88f-533056c9c7fd"
      },
      "execution_count": 125,
      "outputs": [
        {
          "output_type": "execute_result",
          "data": {
            "text/plain": [
              "                                            Comments\n",
              "0  doctor strange is easily marvel s most powerfu...\n",
              "1  the lyrics really fits doctor strange i was br...\n",
              "3  this song never gets old  no matter how much i...\n",
              "4         we got a legend       we got another le...\n",
              "5       the scene and music are in sync   the bea..."
            ],
            "text/html": [
              "\n",
              "  <div id=\"df-a4a7c724-c06e-45c4-9253-2d8f5619c003\">\n",
              "    <div class=\"colab-df-container\">\n",
              "      <div>\n",
              "<style scoped>\n",
              "    .dataframe tbody tr th:only-of-type {\n",
              "        vertical-align: middle;\n",
              "    }\n",
              "\n",
              "    .dataframe tbody tr th {\n",
              "        vertical-align: top;\n",
              "    }\n",
              "\n",
              "    .dataframe thead th {\n",
              "        text-align: right;\n",
              "    }\n",
              "</style>\n",
              "<table border=\"1\" class=\"dataframe\">\n",
              "  <thead>\n",
              "    <tr style=\"text-align: right;\">\n",
              "      <th></th>\n",
              "      <th>Comments</th>\n",
              "    </tr>\n",
              "  </thead>\n",
              "  <tbody>\n",
              "    <tr>\n",
              "      <th>0</th>\n",
              "      <td>doctor strange is easily marvel s most powerfu...</td>\n",
              "    </tr>\n",
              "    <tr>\n",
              "      <th>1</th>\n",
              "      <td>the lyrics really fits doctor strange i was br...</td>\n",
              "    </tr>\n",
              "    <tr>\n",
              "      <th>3</th>\n",
              "      <td>this song never gets old  no matter how much i...</td>\n",
              "    </tr>\n",
              "    <tr>\n",
              "      <th>4</th>\n",
              "      <td>we got a legend       we got another le...</td>\n",
              "    </tr>\n",
              "    <tr>\n",
              "      <th>5</th>\n",
              "      <td>the scene and music are in sync   the bea...</td>\n",
              "    </tr>\n",
              "  </tbody>\n",
              "</table>\n",
              "</div>\n",
              "      <button class=\"colab-df-convert\" onclick=\"convertToInteractive('df-a4a7c724-c06e-45c4-9253-2d8f5619c003')\"\n",
              "              title=\"Convert this dataframe to an interactive table.\"\n",
              "              style=\"display:none;\">\n",
              "        \n",
              "  <svg xmlns=\"http://www.w3.org/2000/svg\" height=\"24px\"viewBox=\"0 0 24 24\"\n",
              "       width=\"24px\">\n",
              "    <path d=\"M0 0h24v24H0V0z\" fill=\"none\"/>\n",
              "    <path d=\"M18.56 5.44l.94 2.06.94-2.06 2.06-.94-2.06-.94-.94-2.06-.94 2.06-2.06.94zm-11 1L8.5 8.5l.94-2.06 2.06-.94-2.06-.94L8.5 2.5l-.94 2.06-2.06.94zm10 10l.94 2.06.94-2.06 2.06-.94-2.06-.94-.94-2.06-.94 2.06-2.06.94z\"/><path d=\"M17.41 7.96l-1.37-1.37c-.4-.4-.92-.59-1.43-.59-.52 0-1.04.2-1.43.59L10.3 9.45l-7.72 7.72c-.78.78-.78 2.05 0 2.83L4 21.41c.39.39.9.59 1.41.59.51 0 1.02-.2 1.41-.59l7.78-7.78 2.81-2.81c.8-.78.8-2.07 0-2.86zM5.41 20L4 18.59l7.72-7.72 1.47 1.35L5.41 20z\"/>\n",
              "  </svg>\n",
              "      </button>\n",
              "      \n",
              "  <style>\n",
              "    .colab-df-container {\n",
              "      display:flex;\n",
              "      flex-wrap:wrap;\n",
              "      gap: 12px;\n",
              "    }\n",
              "\n",
              "    .colab-df-convert {\n",
              "      background-color: #E8F0FE;\n",
              "      border: none;\n",
              "      border-radius: 50%;\n",
              "      cursor: pointer;\n",
              "      display: none;\n",
              "      fill: #1967D2;\n",
              "      height: 32px;\n",
              "      padding: 0 0 0 0;\n",
              "      width: 32px;\n",
              "    }\n",
              "\n",
              "    .colab-df-convert:hover {\n",
              "      background-color: #E2EBFA;\n",
              "      box-shadow: 0px 1px 2px rgba(60, 64, 67, 0.3), 0px 1px 3px 1px rgba(60, 64, 67, 0.15);\n",
              "      fill: #174EA6;\n",
              "    }\n",
              "\n",
              "    [theme=dark] .colab-df-convert {\n",
              "      background-color: #3B4455;\n",
              "      fill: #D2E3FC;\n",
              "    }\n",
              "\n",
              "    [theme=dark] .colab-df-convert:hover {\n",
              "      background-color: #434B5C;\n",
              "      box-shadow: 0px 1px 3px 1px rgba(0, 0, 0, 0.15);\n",
              "      filter: drop-shadow(0px 1px 2px rgba(0, 0, 0, 0.3));\n",
              "      fill: #FFFFFF;\n",
              "    }\n",
              "  </style>\n",
              "\n",
              "      <script>\n",
              "        const buttonEl =\n",
              "          document.querySelector('#df-a4a7c724-c06e-45c4-9253-2d8f5619c003 button.colab-df-convert');\n",
              "        buttonEl.style.display =\n",
              "          google.colab.kernel.accessAllowed ? 'block' : 'none';\n",
              "\n",
              "        async function convertToInteractive(key) {\n",
              "          const element = document.querySelector('#df-a4a7c724-c06e-45c4-9253-2d8f5619c003');\n",
              "          const dataTable =\n",
              "            await google.colab.kernel.invokeFunction('convertToInteractive',\n",
              "                                                     [key], {});\n",
              "          if (!dataTable) return;\n",
              "\n",
              "          const docLinkHtml = 'Like what you see? Visit the ' +\n",
              "            '<a target=\"_blank\" href=https://colab.research.google.com/notebooks/data_table.ipynb>data table notebook</a>'\n",
              "            + ' to learn more about interactive tables.';\n",
              "          element.innerHTML = '';\n",
              "          dataTable['output_type'] = 'display_data';\n",
              "          await google.colab.output.renderOutput(dataTable, element);\n",
              "          const docLink = document.createElement('div');\n",
              "          docLink.innerHTML = docLinkHtml;\n",
              "          element.appendChild(docLink);\n",
              "        }\n",
              "      </script>\n",
              "    </div>\n",
              "  </div>\n",
              "  "
            ]
          },
          "metadata": {},
          "execution_count": 125
        }
      ]
    },
    {
      "cell_type": "code",
      "source": [
        "data[\"Comments\"] = data[\"Comments\"].str.replace('\\n','')\n",
        "data[\"Comments\"] = data[\"Comments\"].str.replace('\\t', ' ')\n",
        "#removes two or more spaces\n",
        "data[\"Comments\"] = data[\"Comments\"].str.replace(' {2,}', ' ', regex=True)\n",
        "data[\"Comments\"] = data[\"Comments\"].str.strip()"
      ],
      "metadata": {
        "id": "2kj9sTlZOfoy"
      },
      "execution_count": 126,
      "outputs": []
    },
    {
      "cell_type": "code",
      "source": [
        "from textblob import TextBlob"
      ],
      "metadata": {
        "id": "HxGAk3mxO5wI"
      },
      "execution_count": 127,
      "outputs": []
    },
    {
      "cell_type": "code",
      "source": [
        "def getPolarity(text):\n",
        "   return TextBlob(text).sentiment.polarity\n",
        "data[\"polarity\"] = data[\"Comments\"].apply(getPolarity)"
      ],
      "metadata": {
        "id": "ce4gMoCBkyXe"
      },
      "execution_count": 128,
      "outputs": []
    },
    {
      "cell_type": "code",
      "source": [
        "def getSubjectivity(text):\n",
        "   return TextBlob(text).sentiment.subjectivity\n",
        "data[\"subjectivity\"] = data[\"Comments\"].apply(getSubjectivity)"
      ],
      "metadata": {
        "id": "OfPG_SjJPgV4"
      },
      "execution_count": 129,
      "outputs": []
    },
    {
      "cell_type": "code",
      "source": [
        "data[\"category\"] = 0\n",
        "data[\"category\"][data[\"polarity\"] > 0] = 1\n",
        "data[\"category\"][data[\"polarity\"] <= 0] = -1"
      ],
      "metadata": {
        "colab": {
          "base_uri": "https://localhost:8080/"
        },
        "id": "jK3MtzXNP5gt",
        "outputId": "6333fddf-d4cc-48c8-a72b-e9b4ddd0217f"
      },
      "execution_count": 130,
      "outputs": [
        {
          "output_type": "stream",
          "name": "stderr",
          "text": [
            "/usr/local/lib/python3.7/dist-packages/ipykernel_launcher.py:2: SettingWithCopyWarning: \n",
            "A value is trying to be set on a copy of a slice from a DataFrame\n",
            "\n",
            "See the caveats in the documentation: https://pandas.pydata.org/pandas-docs/stable/user_guide/indexing.html#returning-a-view-versus-a-copy\n",
            "  \n",
            "/usr/local/lib/python3.7/dist-packages/ipykernel_launcher.py:3: SettingWithCopyWarning: \n",
            "A value is trying to be set on a copy of a slice from a DataFrame\n",
            "\n",
            "See the caveats in the documentation: https://pandas.pydata.org/pandas-docs/stable/user_guide/indexing.html#returning-a-view-versus-a-copy\n",
            "  This is separate from the ipykernel package so we can avoid doing imports until\n"
          ]
        }
      ]
    },
    {
      "cell_type": "code",
      "source": [
        "data.head()"
      ],
      "metadata": {
        "colab": {
          "base_uri": "https://localhost:8080/",
          "height": 204
        },
        "id": "2ihrXDwtQVsg",
        "outputId": "8aa8169d-0366-4413-c0fb-7a6fc8c3ad67"
      },
      "execution_count": 131,
      "outputs": [
        {
          "output_type": "execute_result",
          "data": {
            "text/plain": [
              "                                            Comments  polarity  subjectivity  \\\n",
              "0  doctor strange is easily marvel s most powerfu...  0.436667      0.556667   \n",
              "1  the lyrics really fits doctor strange i was br... -0.050000      0.190000   \n",
              "3  this song never gets old no matter how much i ...  0.325000      0.475000   \n",
              "4  we got a legend we got another legendboth were...  0.000000      0.000000   \n",
              "5  the scene and music are in sync the beat match...  1.000000      1.000000   \n",
              "\n",
              "   category  \n",
              "0         1  \n",
              "1        -1  \n",
              "3         1  \n",
              "4        -1  \n",
              "5         1  "
            ],
            "text/html": [
              "\n",
              "  <div id=\"df-a6706656-cd27-4d18-9636-649b033213f8\">\n",
              "    <div class=\"colab-df-container\">\n",
              "      <div>\n",
              "<style scoped>\n",
              "    .dataframe tbody tr th:only-of-type {\n",
              "        vertical-align: middle;\n",
              "    }\n",
              "\n",
              "    .dataframe tbody tr th {\n",
              "        vertical-align: top;\n",
              "    }\n",
              "\n",
              "    .dataframe thead th {\n",
              "        text-align: right;\n",
              "    }\n",
              "</style>\n",
              "<table border=\"1\" class=\"dataframe\">\n",
              "  <thead>\n",
              "    <tr style=\"text-align: right;\">\n",
              "      <th></th>\n",
              "      <th>Comments</th>\n",
              "      <th>polarity</th>\n",
              "      <th>subjectivity</th>\n",
              "      <th>category</th>\n",
              "    </tr>\n",
              "  </thead>\n",
              "  <tbody>\n",
              "    <tr>\n",
              "      <th>0</th>\n",
              "      <td>doctor strange is easily marvel s most powerfu...</td>\n",
              "      <td>0.436667</td>\n",
              "      <td>0.556667</td>\n",
              "      <td>1</td>\n",
              "    </tr>\n",
              "    <tr>\n",
              "      <th>1</th>\n",
              "      <td>the lyrics really fits doctor strange i was br...</td>\n",
              "      <td>-0.050000</td>\n",
              "      <td>0.190000</td>\n",
              "      <td>-1</td>\n",
              "    </tr>\n",
              "    <tr>\n",
              "      <th>3</th>\n",
              "      <td>this song never gets old no matter how much i ...</td>\n",
              "      <td>0.325000</td>\n",
              "      <td>0.475000</td>\n",
              "      <td>1</td>\n",
              "    </tr>\n",
              "    <tr>\n",
              "      <th>4</th>\n",
              "      <td>we got a legend we got another legendboth were...</td>\n",
              "      <td>0.000000</td>\n",
              "      <td>0.000000</td>\n",
              "      <td>-1</td>\n",
              "    </tr>\n",
              "    <tr>\n",
              "      <th>5</th>\n",
              "      <td>the scene and music are in sync the beat match...</td>\n",
              "      <td>1.000000</td>\n",
              "      <td>1.000000</td>\n",
              "      <td>1</td>\n",
              "    </tr>\n",
              "  </tbody>\n",
              "</table>\n",
              "</div>\n",
              "      <button class=\"colab-df-convert\" onclick=\"convertToInteractive('df-a6706656-cd27-4d18-9636-649b033213f8')\"\n",
              "              title=\"Convert this dataframe to an interactive table.\"\n",
              "              style=\"display:none;\">\n",
              "        \n",
              "  <svg xmlns=\"http://www.w3.org/2000/svg\" height=\"24px\"viewBox=\"0 0 24 24\"\n",
              "       width=\"24px\">\n",
              "    <path d=\"M0 0h24v24H0V0z\" fill=\"none\"/>\n",
              "    <path d=\"M18.56 5.44l.94 2.06.94-2.06 2.06-.94-2.06-.94-.94-2.06-.94 2.06-2.06.94zm-11 1L8.5 8.5l.94-2.06 2.06-.94-2.06-.94L8.5 2.5l-.94 2.06-2.06.94zm10 10l.94 2.06.94-2.06 2.06-.94-2.06-.94-.94-2.06-.94 2.06-2.06.94z\"/><path d=\"M17.41 7.96l-1.37-1.37c-.4-.4-.92-.59-1.43-.59-.52 0-1.04.2-1.43.59L10.3 9.45l-7.72 7.72c-.78.78-.78 2.05 0 2.83L4 21.41c.39.39.9.59 1.41.59.51 0 1.02-.2 1.41-.59l7.78-7.78 2.81-2.81c.8-.78.8-2.07 0-2.86zM5.41 20L4 18.59l7.72-7.72 1.47 1.35L5.41 20z\"/>\n",
              "  </svg>\n",
              "      </button>\n",
              "      \n",
              "  <style>\n",
              "    .colab-df-container {\n",
              "      display:flex;\n",
              "      flex-wrap:wrap;\n",
              "      gap: 12px;\n",
              "    }\n",
              "\n",
              "    .colab-df-convert {\n",
              "      background-color: #E8F0FE;\n",
              "      border: none;\n",
              "      border-radius: 50%;\n",
              "      cursor: pointer;\n",
              "      display: none;\n",
              "      fill: #1967D2;\n",
              "      height: 32px;\n",
              "      padding: 0 0 0 0;\n",
              "      width: 32px;\n",
              "    }\n",
              "\n",
              "    .colab-df-convert:hover {\n",
              "      background-color: #E2EBFA;\n",
              "      box-shadow: 0px 1px 2px rgba(60, 64, 67, 0.3), 0px 1px 3px 1px rgba(60, 64, 67, 0.15);\n",
              "      fill: #174EA6;\n",
              "    }\n",
              "\n",
              "    [theme=dark] .colab-df-convert {\n",
              "      background-color: #3B4455;\n",
              "      fill: #D2E3FC;\n",
              "    }\n",
              "\n",
              "    [theme=dark] .colab-df-convert:hover {\n",
              "      background-color: #434B5C;\n",
              "      box-shadow: 0px 1px 3px 1px rgba(0, 0, 0, 0.15);\n",
              "      filter: drop-shadow(0px 1px 2px rgba(0, 0, 0, 0.3));\n",
              "      fill: #FFFFFF;\n",
              "    }\n",
              "  </style>\n",
              "\n",
              "      <script>\n",
              "        const buttonEl =\n",
              "          document.querySelector('#df-a6706656-cd27-4d18-9636-649b033213f8 button.colab-df-convert');\n",
              "        buttonEl.style.display =\n",
              "          google.colab.kernel.accessAllowed ? 'block' : 'none';\n",
              "\n",
              "        async function convertToInteractive(key) {\n",
              "          const element = document.querySelector('#df-a6706656-cd27-4d18-9636-649b033213f8');\n",
              "          const dataTable =\n",
              "            await google.colab.kernel.invokeFunction('convertToInteractive',\n",
              "                                                     [key], {});\n",
              "          if (!dataTable) return;\n",
              "\n",
              "          const docLinkHtml = 'Like what you see? Visit the ' +\n",
              "            '<a target=\"_blank\" href=https://colab.research.google.com/notebooks/data_table.ipynb>data table notebook</a>'\n",
              "            + ' to learn more about interactive tables.';\n",
              "          element.innerHTML = '';\n",
              "          dataTable['output_type'] = 'display_data';\n",
              "          await google.colab.output.renderOutput(dataTable, element);\n",
              "          const docLink = document.createElement('div');\n",
              "          docLink.innerHTML = docLinkHtml;\n",
              "          element.appendChild(docLink);\n",
              "        }\n",
              "      </script>\n",
              "    </div>\n",
              "  </div>\n",
              "  "
            ]
          },
          "metadata": {},
          "execution_count": 131
        }
      ]
    },
    {
      "cell_type": "code",
      "source": [
        "data[\"category\"].value_counts()"
      ],
      "metadata": {
        "colab": {
          "base_uri": "https://localhost:8080/"
        },
        "id": "GpqMeV0IR3W9",
        "outputId": "cdbb99be-24c9-4875-cb38-4cf9807bf32b"
      },
      "execution_count": 132,
      "outputs": [
        {
          "output_type": "execute_result",
          "data": {
            "text/plain": [
              " 1    5064\n",
              "-1    4059\n",
              "Name: category, dtype: int64"
            ]
          },
          "metadata": {},
          "execution_count": 132
        }
      ]
    },
    {
      "cell_type": "code",
      "source": [
        "data[\"category\"].value_counts().plot.bar()"
      ],
      "metadata": {
        "colab": {
          "base_uri": "https://localhost:8080/",
          "height": 282
        },
        "id": "m1OrW18oSN2n",
        "outputId": "3e303742-d004-450f-95f6-3d3c69b05f7d"
      },
      "execution_count": 133,
      "outputs": [
        {
          "output_type": "execute_result",
          "data": {
            "text/plain": [
              "<matplotlib.axes._subplots.AxesSubplot at 0x7f6952288ad0>"
            ]
          },
          "metadata": {},
          "execution_count": 133
        },
        {
          "output_type": "display_data",
          "data": {
            "text/plain": [
              "<Figure size 432x288 with 1 Axes>"
            ],
            "image/png": "[encoded data removed]"
          },
          "metadata": {
            "needs_background": "light"
          }
        }
      ]
    },
    {
      "cell_type": "code",
      "source": [
        "import nltk\n",
        "nltk.download(\"stopwords\")"
      ],
      "metadata": {
        "colab": {
          "base_uri": "https://localhost:8080/"
        },
        "id": "X2qJXsVEYsZS",
        "outputId": "243e0290-0e4e-44fc-bde6-c7f81be914a9"
      },
      "execution_count": 134,
      "outputs": [
        {
          "output_type": "stream",
          "name": "stdout",
          "text": [
            "[nltk_data] Downloading package stopwords to /root/nltk_data...\n",
            "[nltk_data]   Package stopwords is already up-to-date!\n"
          ]
        },
        {
          "output_type": "execute_result",
          "data": {
            "text/plain": [
              "True"
            ]
          },
          "metadata": {},
          "execution_count": 134
        }
      ]
    },
    {
      "cell_type": "code",
      "source": [
        "nltk.download(\"punkt\")"
      ],
      "metadata": {
        "colab": {
          "base_uri": "https://localhost:8080/"
        },
        "id": "aCVnTQECY2V-",
        "outputId": "9c94adda-cf9d-4acc-bd9e-0b270ee7da52"
      },
      "execution_count": 135,
      "outputs": [
        {
          "output_type": "stream",
          "name": "stdout",
          "text": [
            "[nltk_data] Downloading package punkt to /root/nltk_data...\n",
            "[nltk_data]   Package punkt is already up-to-date!\n"
          ]
        },
        {
          "output_type": "execute_result",
          "data": {
            "text/plain": [
              "True"
            ]
          },
          "metadata": {},
          "execution_count": 135
        }
      ]
    },
    {
      "cell_type": "code",
      "source": [
        "from nltk.corpus import stopwords\n",
        "from nltk import word_tokenize\n",
        "import re"
      ],
      "metadata": {
        "id": "DXKU4O5wY98Q"
      },
      "execution_count": 136,
      "outputs": []
    },
    {
      "cell_type": "code",
      "source": [
        "stop_words = stopwords.words(\"english\")"
      ],
      "metadata": {
        "id": "podiHj1KcFhL"
      },
      "execution_count": 137,
      "outputs": []
    },
    {
      "cell_type": "code",
      "source": [
        "def remove_stopwords(text):\n",
        "  word_tokens = word_tokenize(text)\n",
        "  updated_sen = [word for word in word_tokens if not word in stop_words]\n",
        "  return \" \".join(updated_sen)\n"
      ],
      "metadata": {
        "id": "SenOv1Wtc6Ui"
      },
      "execution_count": 138,
      "outputs": []
    },
    {
      "cell_type": "code",
      "source": [
        "data[\"Comments\"] = data[\"Comments\"].apply(lambda x : remove_stopwords(x))"
      ],
      "metadata": {
        "id": "6aI_qt_fdqPg"
      },
      "execution_count": 139,
      "outputs": []
    },
    {
      "cell_type": "code",
      "source": [
        "data.head()"
      ],
      "metadata": {
        "colab": {
          "base_uri": "https://localhost:8080/",
          "height": 204
        },
        "id": "nlkcHye1eJjq",
        "outputId": "18c76b39-b12c-42b7-ed5e-3c2b36f12ad3"
      },
      "execution_count": 140,
      "outputs": [
        {
          "output_type": "execute_result",
          "data": {
            "text/plain": [
              "                                            Comments  polarity  subjectivity  \\\n",
              "0    doctor strange easily marvel powerful best hero  0.436667      0.556667   \n",
              "1  lyrics really fits doctor strange broken accid... -0.050000      0.190000   \n",
              "3  song never gets old matter much listen legenda...  0.325000      0.475000   \n",
              "4  got legend got another legendboth sherlock hol...  0.000000      0.000000   \n",
              "5            scene music sync beat matches perfectly  1.000000      1.000000   \n",
              "\n",
              "   category  \n",
              "0         1  \n",
              "1        -1  \n",
              "3         1  \n",
              "4        -1  \n",
              "5         1  "
            ],
            "text/html": [
              "\n",
              "  <div id=\"df-021d8d07-e3d0-41cf-b7f0-20382a969119\">\n",
              "    <div class=\"colab-df-container\">\n",
              "      <div>\n",
              "<style scoped>\n",
              "    .dataframe tbody tr th:only-of-type {\n",
              "        vertical-align: middle;\n",
              "    }\n",
              "\n",
              "    .dataframe tbody tr th {\n",
              "        vertical-align: top;\n",
              "    }\n",
              "\n",
              "    .dataframe thead th {\n",
              "        text-align: right;\n",
              "    }\n",
              "</style>\n",
              "<table border=\"1\" class=\"dataframe\">\n",
              "  <thead>\n",
              "    <tr style=\"text-align: right;\">\n",
              "      <th></th>\n",
              "      <th>Comments</th>\n",
              "      <th>polarity</th>\n",
              "      <th>subjectivity</th>\n",
              "      <th>category</th>\n",
              "    </tr>\n",
              "  </thead>\n",
              "  <tbody>\n",
              "    <tr>\n",
              "      <th>0</th>\n",
              "      <td>doctor strange easily marvel powerful best hero</td>\n",
              "      <td>0.436667</td>\n",
              "      <td>0.556667</td>\n",
              "      <td>1</td>\n",
              "    </tr>\n",
              "    <tr>\n",
              "      <th>1</th>\n",
              "      <td>lyrics really fits doctor strange broken accid...</td>\n",
              "      <td>-0.050000</td>\n",
              "      <td>0.190000</td>\n",
              "      <td>-1</td>\n",
              "    </tr>\n",
              "    <tr>\n",
              "      <th>3</th>\n",
              "      <td>song never gets old matter much listen legenda...</td>\n",
              "      <td>0.325000</td>\n",
              "      <td>0.475000</td>\n",
              "      <td>1</td>\n",
              "    </tr>\n",
              "    <tr>\n",
              "      <th>4</th>\n",
              "      <td>got legend got another legendboth sherlock hol...</td>\n",
              "      <td>0.000000</td>\n",
              "      <td>0.000000</td>\n",
              "      <td>-1</td>\n",
              "    </tr>\n",
              "    <tr>\n",
              "      <th>5</th>\n",
              "      <td>scene music sync beat matches perfectly</td>\n",
              "      <td>1.000000</td>\n",
              "      <td>1.000000</td>\n",
              "      <td>1</td>\n",
              "    </tr>\n",
              "  </tbody>\n",
              "</table>\n",
              "</div>\n",
              "      <button class=\"colab-df-convert\" onclick=\"convertToInteractive('df-021d8d07-e3d0-41cf-b7f0-20382a969119')\"\n",
              "              title=\"Convert this dataframe to an interactive table.\"\n",
              "              style=\"display:none;\">\n",
              "        \n",
              "  <svg xmlns=\"http://www.w3.org/2000/svg\" height=\"24px\"viewBox=\"0 0 24 24\"\n",
              "       width=\"24px\">\n",
              "    <path d=\"M0 0h24v24H0V0z\" fill=\"none\"/>\n",
              "    <path d=\"M18.56 5.44l.94 2.06.94-2.06 2.06-.94-2.06-.94-.94-2.06-.94 2.06-2.06.94zm-11 1L8.5 8.5l.94-2.06 2.06-.94-2.06-.94L8.5 2.5l-.94 2.06-2.06.94zm10 10l.94 2.06.94-2.06 2.06-.94-2.06-.94-.94-2.06-.94 2.06-2.06.94z\"/><path d=\"M17.41 7.96l-1.37-1.37c-.4-.4-.92-.59-1.43-.59-.52 0-1.04.2-1.43.59L10.3 9.45l-7.72 7.72c-.78.78-.78 2.05 0 2.83L4 21.41c.39.39.9.59 1.41.59.51 0 1.02-.2 1.41-.59l7.78-7.78 2.81-2.81c.8-.78.8-2.07 0-2.86zM5.41 20L4 18.59l7.72-7.72 1.47 1.35L5.41 20z\"/>\n",
              "  </svg>\n",
              "      </button>\n",
              "      \n",
              "  <style>\n",
              "    .colab-df-container {\n",
              "      display:flex;\n",
              "      flex-wrap:wrap;\n",
              "      gap: 12px;\n",
              "    }\n",
              "\n",
              "    .colab-df-convert {\n",
              "      background-color: #E8F0FE;\n",
              "      border: none;\n",
              "      border-radius: 50%;\n",
              "      cursor: pointer;\n",
              "      display: none;\n",
              "      fill: #1967D2;\n",
              "      height: 32px;\n",
              "      padding: 0 0 0 0;\n",
              "      width: 32px;\n",
              "    }\n",
              "\n",
              "    .colab-df-convert:hover {\n",
              "      background-color: #E2EBFA;\n",
              "      box-shadow: 0px 1px 2px rgba(60, 64, 67, 0.3), 0px 1px 3px 1px rgba(60, 64, 67, 0.15);\n",
              "      fill: #174EA6;\n",
              "    }\n",
              "\n",
              "    [theme=dark] .colab-df-convert {\n",
              "      background-color: #3B4455;\n",
              "      fill: #D2E3FC;\n",
              "    }\n",
              "\n",
              "    [theme=dark] .colab-df-convert:hover {\n",
              "      background-color: #434B5C;\n",
              "      box-shadow: 0px 1px 3px 1px rgba(0, 0, 0, 0.15);\n",
              "      filter: drop-shadow(0px 1px 2px rgba(0, 0, 0, 0.3));\n",
              "      fill: #FFFFFF;\n",
              "    }\n",
              "  </style>\n",
              "\n",
              "      <script>\n",
              "        const buttonEl =\n",
              "          document.querySelector('#df-021d8d07-e3d0-41cf-b7f0-20382a969119 button.colab-df-convert');\n",
              "        buttonEl.style.display =\n",
              "          google.colab.kernel.accessAllowed ? 'block' : 'none';\n",
              "\n",
              "        async function convertToInteractive(key) {\n",
              "          const element = document.querySelector('#df-021d8d07-e3d0-41cf-b7f0-20382a969119');\n",
              "          const dataTable =\n",
              "            await google.colab.kernel.invokeFunction('convertToInteractive',\n",
              "                                                     [key], {});\n",
              "          if (!dataTable) return;\n",
              "\n",
              "          const docLinkHtml = 'Like what you see? Visit the ' +\n",
              "            '<a target=\"_blank\" href=https://colab.research.google.com/notebooks/data_table.ipynb>data table notebook</a>'\n",
              "            + ' to learn more about interactive tables.';\n",
              "          element.innerHTML = '';\n",
              "          dataTable['output_type'] = 'display_data';\n",
              "          await google.colab.output.renderOutput(dataTable, element);\n",
              "          const docLink = document.createElement('div');\n",
              "          docLink.innerHTML = docLinkHtml;\n",
              "          element.appendChild(docLink);\n",
              "        }\n",
              "      </script>\n",
              "    </div>\n",
              "  </div>\n",
              "  "
            ]
          },
          "metadata": {},
          "execution_count": 140
        }
      ]
    },
    {
      "cell_type": "code",
      "source": [
        "from sklearn.feature_extraction.text import CountVectorizer"
      ],
      "metadata": {
        "id": "1RG3cauTgTj7"
      },
      "execution_count": 141,
      "outputs": []
    },
    {
      "cell_type": "code",
      "source": [
        "from sklearn.model_selection import train_test_split"
      ],
      "metadata": {
        "id": "3FiJv7q7mJWT"
      },
      "execution_count": 142,
      "outputs": []
    },
    {
      "cell_type": "code",
      "source": [
        "x_train,x_test,y_train,y_test = train_test_split(data[\"Comments\"],data[\"category\"],test_size = 0.2,random_state = 42)"
      ],
      "metadata": {
        "id": "6pBXhcHJmVwp"
      },
      "execution_count": 143,
      "outputs": []
    },
    {
      "cell_type": "markdown",
      "source": [
        "##Model Building"
      ],
      "metadata": {
        "id": "HSHGUfbdmryS"
      }
    },
    {
      "cell_type": "code",
      "source": [
        "from sklearn.feature_extraction.text import CountVectorizer\n",
        "vect = CountVectorizer()\n",
        "vect_train = vect.fit_transform(x_train)\n",
        "vect_test = vect.transform(x_test)"
      ],
      "metadata": {
        "id": "fLR27fKDmrC6"
      },
      "execution_count": 144,
      "outputs": []
    },
    {
      "cell_type": "code",
      "source": [
        "vect.vocabulary_"
      ],
      "metadata": {
        "colab": {
          "base_uri": "https://localhost:8080/"
        },
        "id": "yTn1XTngnEIJ",
        "outputId": "f360cae5-06dd-4260-cf14-45d967d68446"
      },
      "execution_count": 145,
      "outputs": [
        {
          "output_type": "execute_result",
          "data": {
            "text/plain": [
              "{'awesome': 692,\n",
              " 'god': 4028,\n",
              " 'bless': 995,\n",
              " 'judge': 5268,\n",
              " 'caprio': 1326,\n",
              " 'nice': 6464,\n",
              " 'like': 5614,\n",
              " 'big': 937,\n",
              " 'heart': 4377,\n",
              " 'wish': 10557,\n",
              " 'could': 2026,\n",
              " 'blame': 985,\n",
              " 'mistakes': 6168,\n",
              " 'others': 6739,\n",
              " 'get': 3968,\n",
              " 'away': 689,\n",
              " 'great': 4135,\n",
              " 'bs': 1180,\n",
              " 'story': 9055,\n",
              " 'india': 4859,\n",
              " 'language': 5451,\n",
              " 'better': 919,\n",
              " 'make': 5832,\n",
              " 'sure': 9261,\n",
              " 'speak': 8853,\n",
              " 'coming': 1708,\n",
              " 'recipe': 7757,\n",
              " 'success': 9180,\n",
              " 'future': 3864,\n",
              " 'paying': 6929,\n",
              " 'attention': 621,\n",
              " 'topics': 9713,\n",
              " 'ted': 9454,\n",
              " 'talk': 9388,\n",
              " 'chooses': 1524,\n",
              " 'highlight': 4453,\n",
              " 'happens': 4293,\n",
              " 'every': 3223,\n",
              " 'time': 9653,\n",
              " 'obviously': 6585,\n",
              " 'racist': 7642,\n",
              " 'dame': 2237,\n",
              " 'shame': 8499,\n",
              " 'people': 6962,\n",
              " 'sick': 8593,\n",
              " 'expect': 3295,\n",
              " 'follow': 3673,\n",
              " 'laws': 5493,\n",
              " 'broke': 1158,\n",
              " 'america': 310,\n",
              " 'official': 6621,\n",
              " 'speaking': 8856,\n",
              " 'english': 3077,\n",
              " 'excuse': 3271,\n",
              " 'crack': 2069,\n",
              " 'someone': 8789,\n",
              " 'neck': 6404,\n",
              " 'pretty': 7351,\n",
              " 'called': 1280,\n",
              " 'xenophobia': 10668,\n",
              " 'honour': 4539,\n",
              " 'thou': 9588,\n",
              " 'really': 7726,\n",
              " 'learning': 5524,\n",
              " 'almighty': 268,\n",
              " 'yhwh': 10711,\n",
              " 'even': 3212,\n",
              " 'towards': 9741,\n",
              " 'benevolent': 902,\n",
              " 'end': 3036,\n",
              " 'imitate': 4748,\n",
              " 'land': 5441,\n",
              " 'free': 3778,\n",
              " 'home': 4516,\n",
              " 'brave': 1117,\n",
              " 'laugh': 5475,\n",
              " 'understand': 9997,\n",
              " 'much': 6295,\n",
              " 'money': 6218,\n",
              " 'elon': 2976,\n",
              " 'actually': 104,\n",
              " 'think': 9569,\n",
              " 'networth': 6439,\n",
              " 'including': 4833,\n",
              " 'house': 4584,\n",
              " 'car': 1339,\n",
              " 'etc': 3187,\n",
              " 'subtract': 9173,\n",
              " 'loans': 5678,\n",
              " 'total': 9723,\n",
              " 'value': 10185,\n",
              " 'close': 1617,\n",
              " 'similar': 8618,\n",
              " 'investment': 5127,\n",
              " 'million': 6099,\n",
              " 'dollars': 2704,\n",
              " 'new': 6451,\n",
              " 'iphone': 5146,\n",
              " 'costs': 2021,\n",
              " 'would': 10632,\n",
              " 'feel': 3488,\n",
              " 'monetary': 6217,\n",
              " 'impact': 4763,\n",
              " 'relative': 7855,\n",
              " 'spending': 8879,\n",
              " 'mistake': 6165,\n",
              " 'looked': 5713,\n",
              " 'black': 979,\n",
              " 'second': 8376,\n",
              " 'third': 9575,\n",
              " 'police': 7179,\n",
              " 'stay': 8995,\n",
              " 'chased': 1469,\n",
              " 'wow': 10635,\n",
              " 'beats': 822,\n",
              " 'perfectly': 6972,\n",
              " 'timed': 9654,\n",
              " 'scenes': 8318,\n",
              " 'believer': 877,\n",
              " 'best': 912,\n",
              " 'song': 8799,\n",
              " 'combination': 1689,\n",
              " 'marvel': 5913,\n",
              " 'hero': 4435,\n",
              " 'agrees': 215,\n",
              " 'staff': 8938,\n",
              " 'court': 2047,\n",
              " 'good': 4048,\n",
              " 'perfect': 6969,\n",
              " 'match': 5928,\n",
              " 'mr': 6289,\n",
              " 'patel': 6905,\n",
              " 'put': 7579,\n",
              " 'petition': 7020,\n",
              " 'prosecute': 7478,\n",
              " 'law': 5486,\n",
              " 'abuser': 29,\n",
              " 'many': 5883,\n",
              " 'sign': 8607,\n",
              " 'imagine': 4742,\n",
              " 'musk': 6334,\n",
              " 'flamethrowers': 3617,\n",
              " 'damn': 2238,\n",
              " 'alive': 258,\n",
              " 'taking': 9383,\n",
              " 'long': 5709,\n",
              " 'regulatory': 7842,\n",
              " 'bodies': 1033,\n",
              " 'approve': 449,\n",
              " 'clearly': 1596,\n",
              " 'going': 4038,\n",
              " 'fix': 3607,\n",
              " 'lot': 5739,\n",
              " 'current': 2193,\n",
              " 'issues': 5179,\n",
              " 'literally': 5650,\n",
              " 'one': 6659,\n",
              " 'else': 2983,\n",
              " 'got': 4072,\n",
              " 'answer': 376,\n",
              " 'abuse': 27,\n",
              " 'power': 7271,\n",
              " 'moodi': 6236,\n",
              " 'kashmir': 5330,\n",
              " 'sorry': 8820,\n",
              " 'dad': 2226,\n",
              " 'human': 4609,\n",
              " 'beings': 867,\n",
              " 'way': 10429,\n",
              " 'hurt': 4652,\n",
              " 'choice': 1518,\n",
              " 'qvengers': 7630,\n",
              " 'leader': 5508,\n",
              " 'wrong': 10654,\n",
              " 'somebody': 8785,\n",
              " 'apronched': 456,\n",
              " 'sceen': 8314,\n",
              " 'didnt': 2521,\n",
              " 'wan': 10379,\n",
              " 'na': 6352,\n",
              " 'move': 6277,\n",
              " 'amazing': 298,\n",
              " 'bad': 723,\n",
              " 'world': 10609,\n",
              " 'poor': 7204,\n",
              " 'lady': 5430,\n",
              " 'investigate': 5122,\n",
              " 'partners': 6886,\n",
              " 'find': 3566,\n",
              " 'innocent': 4949,\n",
              " 'charges': 1463,\n",
              " 'suet': 9190,\n",
              " 'hope': 4546,\n",
              " 'everything': 3230,\n",
              " 'well': 10466,\n",
              " 'osm': 6736,\n",
              " 'making': 5836,\n",
              " 'phone': 7042,\n",
              " 'calls': 1284,\n",
              " 'punished': 7551,\n",
              " 'captain': 1329,\n",
              " 'lost': 5738,\n",
              " 'shield': 8531,\n",
              " 'thor': 9581,\n",
              " 'hair': 4250,\n",
              " 'hammer': 4263,\n",
              " 'thanos': 9533,\n",
              " 'dr': 2753,\n",
              " 'strange': 9061,\n",
              " 'gon': 4045,\n",
              " 'fun': 3847,\n",
              " 'dormammu': 2732,\n",
              " 'hell': 4406,\n",
              " 'us': 10142,\n",
              " 'treat': 9816,\n",
              " 'countries': 2037,\n",
              " 'love': 5745,\n",
              " 'may': 5956,\n",
              " 'live': 5661,\n",
              " 'looooooong': 5719,\n",
              " 'sir': 8650,\n",
              " 'priest': 7367,\n",
              " 'im': 4737,\n",
              " 'crying': 2153,\n",
              " 'youre': 10728,\n",
              " 'first': 3595,\n",
              " 'never': 6449,\n",
              " 'read': 7707,\n",
              " 'exactly': 3244,\n",
              " 'according': 53,\n",
              " 'report': 7933,\n",
              " 'looking': 5714,\n",
              " 'houses': 4586,\n",
              " 'say': 8289,\n",
              " 'indians': 4863,\n",
              " 'habit': 4224,\n",
              " 'cant': 1306,\n",
              " 'go': 4023,\n",
              " 'sons': 8802,\n",
              " 'fault': 3445,\n",
              " 'telling': 9473,\n",
              " 'father': 3440,\n",
              " 'yes': 10703,\n",
              " 'excessive': 3260,\n",
              " 'force': 3692,\n",
              " 'avoided': 682,\n",
              " 'sue': 9187,\n",
              " 'cost': 2018,\n",
              " 'care': 1346,\n",
              " 'minimum': 6127,\n",
              " 'yrs': 10737,\n",
              " 'old': 6642,\n",
              " 'listening': 5646,\n",
              " 'accomplish': 49,\n",
              " 'makes': 5835,\n",
              " 'sad': 8216,\n",
              " 'enough': 3091,\n",
              " 'see': 8390,\n",
              " 'full': 3840,\n",
              " 'realization': 7723,\n",
              " 'endeavors': 3043,\n",
              " 'happy': 4298,\n",
              " 'witness': 10570,\n",
              " 'accomplishments': 52,\n",
              " 'already': 275,\n",
              " 'achieved': 72,\n",
              " 'achieve': 71,\n",
              " 'life': 5600,\n",
              " 'fair': 3390,\n",
              " 'play': 7122,\n",
              " 'scared': 8307,\n",
              " 'angry': 359,\n",
              " 'place': 7097,\n",
              " 'visit': 10312,\n",
              " 'welcome': 10463,\n",
              " 'whether': 10500,\n",
              " 'know': 5392,\n",
              " 'hindi': 4470,\n",
              " 'sicken': 8594,\n",
              " 'officers': 6619,\n",
              " 'special': 8858,\n",
              " 'united': 10052,\n",
              " 'states': 8988,\n",
              " 'whatever': 10483,\n",
              " 'want': 10384,\n",
              " 'personally': 7002,\n",
              " 'locked': 5690,\n",
              " 'thrown': 9616,\n",
              " 'rest': 8006,\n",
              " 'inmates': 4944,\n",
              " 'person': 6997,\n",
              " 'cops': 1989,\n",
              " 'deliberately': 2365,\n",
              " 'tackled': 9366,\n",
              " 'anybody': 388,\n",
              " 'realise': 7716,\n",
              " 'partly': 6884,\n",
              " 'caller': 1281,\n",
              " 'humane': 4611,\n",
              " 'popularity': 7214,\n",
              " 'doom': 2723,\n",
              " 'movie': 6283,\n",
              " 'dope': 2728,\n",
              " 'two': 9919,\n",
              " 'trials': 9830,\n",
              " 'verdict': 10227,\n",
              " 'happen': 4289,\n",
              " 'reasons': 7737,\n",
              " 'omg': 6653,\n",
              " 'cool': 1971,\n",
              " 'mean': 5965,\n",
              " 'ecstatic': 2882,\n",
              " 'job': 5237,\n",
              " 'skinny': 8676,\n",
              " 'guy': 4217,\n",
              " 'thing': 9565,\n",
              " 'admit': 134,\n",
              " 'least': 5529,\n",
              " 'learn': 5522,\n",
              " 'basic': 786,\n",
              " 'thts': 9621,\n",
              " 'rage': 7654,\n",
              " 'yet': 10708,\n",
              " 'justifying': 5309,\n",
              " 'americans': 315,\n",
              " 'grung': 4178,\n",
              " 'luv': 5777,\n",
              " 'cop': 1983,\n",
              " 'definitely': 2351,\n",
              " 'reacted': 7703,\n",
              " 'mother': 6259,\n",
              " 'talking': 9392,\n",
              " 'played': 7124,\n",
              " 'video': 10258,\n",
              " 'suspicions': 9298,\n",
              " 'robot': 8119,\n",
              " 'catgirl': 1387,\n",
              " 'win': 10534,\n",
              " 'joseph': 5255,\n",
              " 'badass': 726,\n",
              " 'tho': 9579,\n",
              " 'crazy': 2085,\n",
              " 'believe': 875,\n",
              " 'dont': 2721,\n",
              " 'need': 6407,\n",
              " 'self': 8413,\n",
              " 'driving': 2787,\n",
              " 'cars': 1367,\n",
              " 'seems': 8397,\n",
              " 'another': 373,\n",
              " 'addition': 115,\n",
              " 'list': 5641,\n",
              " 'items': 5187,\n",
              " 'individual': 4871,\n",
              " 'autonomy': 663,\n",
              " 'given': 3999,\n",
              " 'name': 6361,\n",
              " 'safety': 8227,\n",
              " 'convenience': 1948,\n",
              " 'regards': 7827,\n",
              " 'technological': 9451,\n",
              " 'progress': 7436,\n",
              " 'isnt': 5173,\n",
              " 'humankind': 4619,\n",
              " 'white': 10506,\n",
              " 'dare': 2249,\n",
              " 'yell': 10697,\n",
              " 'officer': 6618,\n",
              " 'indicates': 4865,\n",
              " 'aggression': 203,\n",
              " 'wouldnt': 10633,\n",
              " 'needed': 6408,\n",
              " 'escalate': 3166,\n",
              " 'afford': 176,\n",
              " 'hundred': 4642,\n",
              " 'twenty': 9911,\n",
              " 'five': 3605,\n",
              " 'strike': 9098,\n",
              " 'balance': 737,\n",
              " 'twitter': 9918,\n",
              " 'personality': 7000,\n",
              " 'american': 313,\n",
              " 'culture': 2174,\n",
              " 'moved': 6278,\n",
              " 'state': 8984,\n",
              " 'probably': 7389,\n",
              " 'satisfactory': 8273,\n",
              " 'entire': 3108,\n",
              " 'history': 4483,\n",
              " 'films': 3552,\n",
              " 'beat': 817,\n",
              " 'drop': 2791,\n",
              " 'agree': 212,\n",
              " 'coo': 1969,\n",
              " 'touching': 9730,\n",
              " 'emotional': 3010,\n",
              " 'interview': 5082,\n",
              " 'hosts': 4575,\n",
              " 'tools': 9708,\n",
              " 'helped': 4416,\n",
              " 'watching': 10422,\n",
              " 'nord': 6503,\n",
              " 'curious': 2190,\n",
              " 'electric': 2951,\n",
              " 'rockets': 8128,\n",
              " 'ive': 5192,\n",
              " 'ever': 3219,\n",
              " 'thought': 9590,\n",
              " 'says': 8294,\n",
              " 'possible': 7249,\n",
              " 'dear': 2291,\n",
              " 'sitting': 8659,\n",
              " 'chair': 1435,\n",
              " 'brother': 1163,\n",
              " 'sister': 8653,\n",
              " 'grand': 4105,\n",
              " 'teacher': 9432,\n",
              " 'earn': 2850,\n",
              " 'lots': 5740,\n",
              " 'karma': 5325,\n",
              " 'family': 3413,\n",
              " 'minds': 6117,\n",
              " 'corrupted': 2009,\n",
              " 'create': 2089,\n",
              " 'beauty': 827,\n",
              " 'sweetest': 9322,\n",
              " 'seen': 8398,\n",
              " 'needs': 6412,\n",
              " 'perspective': 7006,\n",
              " 'relevance': 7864,\n",
              " 'consider': 1887,\n",
              " 'quick': 7615,\n",
              " 'certainly': 1429,\n",
              " 'incomplete': 4835,\n",
              " 'da': 2223,\n",
              " 'vinci': 10286,\n",
              " 'copernicus': 1985,\n",
              " 'galilei': 3883,\n",
              " 'newton': 6459,\n",
              " 'maxwell': 5955,\n",
              " 'wright': 10644,\n",
              " 'bros': 1161,\n",
              " 'ford': 3698,\n",
              " 'einstein': 2931,\n",
              " 'bohr': 1040,\n",
              " 'turing': 9893,\n",
              " 'von': 10340,\n",
              " 'neumann': 6440,\n",
              " 'goddard': 4031,\n",
              " 'braun': 1116,\n",
              " 'surely': 9262,\n",
              " 'added': 110,\n",
              " 'relevant': 7865,\n",
              " 'endeavor': 3042,\n",
              " 'town': 9745,\n",
              " 'several': 8475,\n",
              " 'generations': 3931,\n",
              " 'indian': 4860,\n",
              " 'immigrants': 4756,\n",
              " 'customarily': 2204,\n",
              " 'walk': 10367,\n",
              " 'neighborhoods': 6421,\n",
              " 'morning': 6248,\n",
              " 'evenings': 3213,\n",
              " 'neighbors': 6422,\n",
              " 'soon': 8804,\n",
              " 'saw': 8287,\n",
              " 'hate': 4336,\n",
              " 'comments': 1720,\n",
              " 'ends': 3052,\n",
              " 'done': 2718,\n",
              " 'terrible': 9501,\n",
              " 'peaceful': 6941,\n",
              " 'solution': 8778,\n",
              " 'peace': 6940,\n",
              " 'lovers': 5751,\n",
              " 'cause': 1393,\n",
              " 'harm': 4316,\n",
              " 'intentionally': 5040,\n",
              " 'foreign': 3702,\n",
              " 'soil': 8769,\n",
              " 'also': 277,\n",
              " 'respect': 7985,\n",
              " 'country': 2038,\n",
              " 'man': 5851,\n",
              " 'walking': 10369,\n",
              " 'road': 8106,\n",
              " 'minding': 6116,\n",
              " 'business': 1248,\n",
              " 'tell': 9471,\n",
              " 'instead': 5002,\n",
              " 'show': 8570,\n",
              " 'break': 1125,\n",
              " 'pos': 7232,\n",
              " 'robbed': 8113,\n",
              " 'thank': 9527,\n",
              " 'chris': 1532,\n",
              " 'tesla': 9510,\n",
              " 'powerwall': 7280,\n",
              " 'starlink': 8972,\n",
              " 'middle': 6078,\n",
              " 'payette': 6928,\n",
              " 'national': 6379,\n",
              " 'forest': 3709,\n",
              " 'idaho': 4689,\n",
              " 'let': 5571,\n",
              " 'quality': 7594,\n",
              " 'far': 3423,\n",
              " 'easier': 2863,\n",
              " 'cope': 1984,\n",
              " 'craziness': 2084,\n",
              " 'wife': 10524,\n",
              " 'made': 5793,\n",
              " 'dream': 2765,\n",
              " 'come': 1697,\n",
              " 'true': 9866,\n",
              " 'today': 9684,\n",
              " 'tomorrow': 9696,\n",
              " 'gives': 4002,\n",
              " 'st': 8929,\n",
              " 'completely': 1789,\n",
              " 'grid': 4156,\n",
              " 'owners': 6799,\n",
              " 'figure': 3539,\n",
              " 'folks': 3672,\n",
              " 'avengers': 670,\n",
              " 'game': 3884,\n",
              " 'toni': 9700,\n",
              " 'died': 2523,\n",
              " 'lets': 5572,\n",
              " 'ai': 227,\n",
              " 'ability': 8,\n",
              " 'unpredictability': 10080,\n",
              " 'everyone': 3227,\n",
              " 'failing': 3385,\n",
              " 'nothing': 6522,\n",
              " 'predictable': 7310,\n",
              " 'apart': 402,\n",
              " 'quarterly': 7603,\n",
              " 'statement': 8986,\n",
              " 'aware': 687,\n",
              " 'wealth': 10436,\n",
              " 'information': 4905,\n",
              " 'past': 6900,\n",
              " 'automation': 657,\n",
              " 'advanced': 149,\n",
              " 'always': 285,\n",
              " 'accident': 46,\n",
              " 'prevented': 7357,\n",
              " 'replace': 7919,\n",
              " 'without': 10568,\n",
              " 'train': 9769,\n",
              " 'track': 9751,\n",
              " 'kind': 5361,\n",
              " 'pakistan': 6829,\n",
              " 'china': 1507,\n",
              " 'languages': 5452,\n",
              " 'question': 7610,\n",
              " 'right': 8084,\n",
              " 'usa': 10143,\n",
              " 'interested': 5049,\n",
              " 'asian': 524,\n",
              " 'citizens': 1555,\n",
              " 'please': 7132,\n",
              " 'change': 1443,\n",
              " 'ur': 10137,\n",
              " 'policies': 7183,\n",
              " 'harrasments': 4324,\n",
              " 'scene': 8317,\n",
              " 'acts': 102,\n",
              " 'humans': 4623,\n",
              " 'rap': 7678,\n",
              " 'anything': 393,\n",
              " 'sibling': 8591,\n",
              " 'beating': 821,\n",
              " 'hears': 4376,\n",
              " 'stop': 9044,\n",
              " 'stops': 9048,\n",
              " 'pushed': 7575,\n",
              " 'slammed': 8684,\n",
              " 'ground': 4167,\n",
              " 'arent': 469,\n",
              " 'batteries': 797,\n",
              " 'damaging': 2236,\n",
              " 'environment': 3121,\n",
              " 'day': 2273,\n",
              " 'almost': 269,\n",
              " 'mil': 6086,\n",
              " 'views': 10273,\n",
              " 'aggressive': 204,\n",
              " 'quickly': 7616,\n",
              " 'guns': 4211,\n",
              " 'creepy': 2105,\n",
              " 'billionaires': 949,\n",
              " 'depopulation': 2419,\n",
              " 'occur': 6590,\n",
              " 'interviews': 5090,\n",
              " 'audience': 635,\n",
              " 'juvenile': 5310,\n",
              " 'jokes': 5251,\n",
              " 'solar': 8770,\n",
              " 'panels': 6839,\n",
              " 'work': 10599,\n",
              " 'bill': 945,\n",
              " 'gates': 3908,\n",
              " 'blots': 1021,\n",
              " 'sun': 9214,\n",
              " 'crap': 2077,\n",
              " 'dumps': 2828,\n",
              " 'sky': 8678,\n",
              " 'lucky': 5766,\n",
              " 'gujarat': 4203,\n",
              " 'haryana': 4333,\n",
              " 'divine': 2674,\n",
              " 'judgements': 5272,\n",
              " 'generosity': 3935,\n",
              " 'altogether': 283,\n",
              " 'results': 8021,\n",
              " 'goodness': 4053,\n",
              " 'matches': 5931,\n",
              " 'patterns': 6918,\n",
              " 'hindu': 4471,\n",
              " 'mythology': 6351,\n",
              " 'worst': 10627,\n",
              " 'lie': 5596,\n",
              " 'suitable': 9202,\n",
              " 'doctor': 2685,\n",
              " 'check': 1477,\n",
              " 'xeno': 10667,\n",
              " 'muller': 6302,\n",
              " 'goldmedallist': 4043,\n",
              " 'skiff': 8669,\n",
              " 'atlanta': 595,\n",
              " 'married': 5905,\n",
              " 'children': 1502,\n",
              " 'lives': 5666,\n",
              " 'california': 1278,\n",
              " 'ya': 10674,\n",
              " 'brilliance': 1148,\n",
              " 'eyes': 3358,\n",
              " 'take': 9377,\n",
              " 'mars': 5907,\n",
              " 'leave': 5531,\n",
              " 'earth': 2854,\n",
              " 'behind': 862,\n",
              " 'fly': 3656,\n",
              " 'lithium': 5653,\n",
              " 'mining': 6128,\n",
              " 'alot': 273,\n",
              " 'profitable': 7424,\n",
              " 'stand': 8953,\n",
              " 'djokovic': 2678,\n",
              " 'rio': 8094,\n",
              " 'tinto': 9668,\n",
              " 'spread': 8913,\n",
              " 'words': 10598,\n",
              " 'fortnite': 3738,\n",
              " 'chapter': 1452,\n",
              " 'season': 8370,\n",
              " 'real': 7715,\n",
              " 'tv': 9904,\n",
              " 'cast': 1374,\n",
              " 'library': 5589,\n",
              " 'went': 10471,\n",
              " 'bathroom': 793,\n",
              " 'kid': 5349,\n",
              " 'min': 6109,\n",
              " 'standing': 8958,\n",
              " 'washing': 10408,\n",
              " 'uphes': 10119,\n",
              " 'staring': 8968,\n",
              " 'saidhey': 8232,\n",
              " 'whats': 10485,\n",
              " 'reason': 7732,\n",
              " 'emotion': 3009,\n",
              " 'empathy': 3016,\n",
              " 'minute': 6138,\n",
              " 'jerk': 5217,\n",
              " 'times': 9661,\n",
              " 'hes': 4441,\n",
              " 'general': 3922,\n",
              " 'compassion': 1764,\n",
              " 'species': 8862,\n",
              " 'ilove': 4736,\n",
              " 'main': 5819,\n",
              " 'horrific': 4561,\n",
              " 'starts': 8980,\n",
              " 'kids': 5351,\n",
              " 'open': 6679,\n",
              " 'field': 3530,\n",
              " 'anywhere': 398,\n",
              " 'justification': 5306,\n",
              " 'picked': 7058,\n",
              " 'facts': 3378,\n",
              " 'punishment': 7553,\n",
              " 'found': 3749,\n",
              " 'reform': 7815,\n",
              " 'revenge': 8046,\n",
              " 'ethics': 3200,\n",
              " 'arrange': 489,\n",
              " 'teach': 9430,\n",
              " 'applied': 434,\n",
              " 'humanity': 4616,\n",
              " 'jesus': 5222,\n",
              " 'said': 8231,\n",
              " 'sin': 8628,\n",
              " 'stone': 9039,\n",
              " 'means': 5969,\n",
              " 'commiting': 1725,\n",
              " 'everyday': 3226,\n",
              " 'lesson': 5569,\n",
              " 'pathan': 6909,\n",
              " 'huge': 4600,\n",
              " 'numbers': 6549,\n",
              " 'legs': 5556,\n",
              " 'shows': 8577,\n",
              " 'still': 9026,\n",
              " 'left': 5538,\n",
              " 'definition': 2352,\n",
              " 'miserable': 6153,\n",
              " 'predictions': 7314,\n",
              " 'wishful': 10560,\n",
              " 'thinking': 9573,\n",
              " 'combines': 1692,\n",
              " 'assuming': 573,\n",
              " 'analysis': 337,\n",
              " 'correct': 2005,\n",
              " 'data': 2260,\n",
              " 'flowing': 3650,\n",
              " 'controlling': 1944,\n",
              " 'factors': 3376,\n",
              " 'scenarios': 8316,\n",
              " 'tends': 9487,\n",
              " 'result': 8019,\n",
              " 'simplifications': 8622,\n",
              " 'depth': 2428,\n",
              " 'research': 7962,\n",
              " 'reaches': 7700,\n",
              " 'higher': 4451,\n",
              " 'level': 5574,\n",
              " 'understanding': 9999,\n",
              " 'gooodddd': 4060,\n",
              " 'lyrics': 5783,\n",
              " 'syco': 9339,\n",
              " 'tjhat': 9678,\n",
              " 'write': 10647,\n",
              " 'huhuh': 4607,\n",
              " 'victim': 10252,\n",
              " 'abusive': 32,\n",
              " 'situation': 8660,\n",
              " 'incredibly': 4847,\n",
              " 'hearted': 4381,\n",
              " 'genuine': 3951,\n",
              " 'compasion': 1761,\n",
              " 'inspiration': 4984,\n",
              " 'mankind': 5866,\n",
              " 'fantastic': 3421,\n",
              " 'caring': 1358,\n",
              " 'kill': 5352,\n",
              " 'doremomu': 2730,\n",
              " 'asked': 531,\n",
              " 'appreciate': 437,\n",
              " 'sentiment': 8437,\n",
              " 'misplaced': 6157,\n",
              " 'case': 1372,\n",
              " 'looks': 5716,\n",
              " 'habitual': 4230,\n",
              " 'danger': 2244,\n",
              " 'problems': 7391,\n",
              " 'thanks': 9530,\n",
              " 'although': 282,\n",
              " 'leaning': 5519,\n",
              " 'decided': 2310,\n",
              " 'sit': 8655,\n",
              " 'listen': 5642,\n",
              " 'vilify': 10278,\n",
              " 'assumptions': 574,\n",
              " 'met': 6049,\n",
              " 'earned': 2851,\n",
              " 'extend': 3343,\n",
              " 'lifespan': 5602,\n",
              " 'ready': 7712,\n",
              " 'neural': 6442,\n",
              " 'link': 5634,\n",
              " 'deserve': 2445,\n",
              " 'pure': 7562,\n",
              " 'transhumanist': 9787,\n",
              " 'propaganda': 7463,\n",
              " 'belongs': 886,\n",
              " 'jail': 5201,\n",
              " 'must': 6340,\n",
              " 'living': 5668,\n",
              " 'rock': 8126,\n",
              " 'loved': 5746,\n",
              " 'highlighting': 4454,\n",
              " 'lenardo': 5558,\n",
              " 'de': 2280,\n",
              " 'vinchi': 10285,\n",
              " 'seem': 8395,\n",
              " 'floating': 3640,\n",
              " 'around': 488,\n",
              " 'promote': 7453,\n",
              " 'moving': 6286,\n",
              " 'yt': 10738,\n",
              " 'stard': 8965,\n",
              " 'fired': 3587,\n",
              " 'recover': 7773,\n",
              " 'idgaf': 4703,\n",
              " 'twats': 9905,\n",
              " 'fckin': 3467,\n",
              " 'thinker': 9570,\n",
              " 'believes': 879,\n",
              " 'speech': 8872,\n",
              " 'freedom': 3779,\n",
              " 'ppl': 7281,\n",
              " 'character': 1454,\n",
              " 'replaced': 7921,\n",
              " 'concern': 1823,\n",
              " 'influence': 4897,\n",
              " 'rich': 8065,\n",
              " 'consume': 1910,\n",
              " 'disproportionately': 2636,\n",
              " 'unfairly': 10020,\n",
              " 'advancing': 153,\n",
              " 'interests': 5051,\n",
              " 'detriment': 2485,\n",
              " 'masses': 5921,\n",
              " 'merica': 6036,\n",
              " 'feels': 3492,\n",
              " 'different': 2533,\n",
              " 'ta': 9361,\n",
              " 'something': 8791,\n",
              " 'ok': 6637,\n",
              " 'slide': 8699,\n",
              " 'charge': 1460,\n",
              " 'happened': 4291,\n",
              " 'ardent': 465,\n",
              " 'fan': 3417,\n",
              " 'prayers': 7298,\n",
              " 'heartbreaking': 4380,\n",
              " 'planet': 7105,\n",
              " 'space': 8843,\n",
              " 'terrifying': 9505,\n",
              " 'finding': 3567,\n",
              " 'planets': 7107,\n",
              " 'forms': 3731,\n",
              " 'keep': 5334,\n",
              " 'shit': 8542,\n",
              " 'spent': 8881,\n",
              " 'molten': 6210,\n",
              " 'salt': 8246,\n",
              " 'reactors': 7706,\n",
              " 'potential': 7256,\n",
              " 'next': 6460,\n",
              " 'industrial': 4880,\n",
              " 'revolution': 8053,\n",
              " 'youcef': 10719,\n",
              " 'girl': 3995,\n",
              " 'tear': 9439,\n",
              " 'moment': 6212,\n",
              " 'village': 10279,\n",
              " 'bet': 915,\n",
              " 'streets': 9085,\n",
              " 'torn': 9716,\n",
              " 'clothes': 1624,\n",
              " 'slippers': 8704,\n",
              " 'impossible': 4795,\n",
              " 'suggest': 9197,\n",
              " 'candidate': 1301,\n",
              " 'president': 7339,\n",
              " 'iam': 4677,\n",
              " 'worldbig': 10610,\n",
              " 'greeting': 4150,\n",
              " 'form': 3726,\n",
              " 'jordan': 5254,\n",
              " 'loooved': 5721,\n",
              " 'okay': 6638,\n",
              " 'idiots': 4707,\n",
              " 'less': 5567,\n",
              " 'likely': 5617,\n",
              " 'action': 94,\n",
              " 'wtf': 10660,\n",
              " 'uk': 9944,\n",
              " 'threat': 9600,\n",
              " 'fav': 3446,\n",
              " 'ask': 530,\n",
              " 'questions': 7614,\n",
              " 'favorite': 3454,\n",
              " 'inspirational': 4985,\n",
              " 'christ': 1533,\n",
              " 'nowhere': 6535,\n",
              " 'near': 6396,\n",
              " 'imposing': 4793,\n",
              " 'warrant': 10404,\n",
              " 'tackle': 9365,\n",
              " 'pigs': 7068,\n",
              " 'protected': 7490,\n",
              " 'dangerous': 2245,\n",
              " 'protectors': 7494,\n",
              " 'complicit': 1798,\n",
              " 'jury': 5300,\n",
              " 'tried': 9837,\n",
              " 'quite': 7625,\n",
              " 'hoping': 4553,\n",
              " 'model': 6193,\n",
              " 'gets': 3970,\n",
              " 'announced': 367,\n",
              " 'sometime': 8792,\n",
              " 'truly': 9870,\n",
              " 'class': 1577,\n",
              " 'population': 7218,\n",
              " 'year': 10689,\n",
              " 'totally': 9725,\n",
              " 'daughter': 2266,\n",
              " 'arrested': 493,\n",
              " 'racism': 7641,\n",
              " 'finest': 3574,\n",
              " 'vanessa': 10189,\n",
              " 'schofield': 8327,\n",
              " 'lovley': 5755,\n",
              " 'compassionate': 1765,\n",
              " 'forgot': 3722,\n",
              " 'send': 8422,\n",
              " 'donations': 2715,\n",
              " 'use': 10148,\n",
              " 'help': 4414,\n",
              " 'allx': 267,\n",
              " 'suits': 9205,\n",
              " 'avenger': 669,\n",
              " 'shared': 8508,\n",
              " 'courts': 2050,\n",
              " 'wondering': 10590,\n",
              " 'religion': 7873,\n",
              " 'theocracy': 9543,\n",
              " 'goof': 4057,\n",
              " 'humble': 4626,\n",
              " 'humanbeing': 4610,\n",
              " 'lovely': 5748,\n",
              " 'lively': 5664,\n",
              " 'driven': 2781,\n",
              " 'ego': 2919,\n",
              " 'wrongdoings': 10656,\n",
              " 'due': 2817,\n",
              " 'association': 567,\n",
              " 'satan': 8269,\n",
              " 'epitome': 3138,\n",
              " 'credit': 2100,\n",
              " 'parents': 6868,\n",
              " 'brought': 1165,\n",
              " 'fellow': 3500,\n",
              " 'unconditionally': 9980,\n",
              " 'conversation': 1953,\n",
              " 'committed': 1728,\n",
              " 'crimes': 2113,\n",
              " 'knowingly': 5394,\n",
              " 'unknowingly': 10060,\n",
              " 'relieved': 7872,\n",
              " 'instantly': 5001,\n",
              " 'transformed': 9784,\n",
              " 'esponsible': 3177,\n",
              " 'society': 8759,\n",
              " 'adorable': 140,\n",
              " 'troublefree': 9860,\n",
              " 'allah': 259,\n",
              " 'abundantly': 26,\n",
              " 'pleasure': 7135,\n",
              " 'treasure': 9815,\n",
              " 'comfortable': 1703,\n",
              " 'grandfather': 4111,\n",
              " 'italian': 5181,\n",
              " 'abundance': 24,\n",
              " 'agreed': 213,\n",
              " 'aliens': 256,\n",
              " 'represent': 7938,\n",
              " 'young': 10724,\n",
              " 'give': 3998,\n",
              " 'hug': 4599,\n",
              " 'tears': 9442,\n",
              " 'whole': 10510,\n",
              " 'expected': 3297,\n",
              " 'favourite': 3459,\n",
              " 'type': 9925,\n",
              " 'judges': 5273,\n",
              " 'legend': 5548,\n",
              " 'watch': 10418,\n",
              " 'years': 10691,\n",
              " 'disturbing': 2667,\n",
              " 'shameful': 8500,\n",
              " 'weak': 10432,\n",
              " 'expensive': 3305,\n",
              " 'swag': 9309,\n",
              " 'able': 9,\n",
              " 'attitude': 623,\n",
              " 'beginning': 849,\n",
              " 'unusual': 10108,\n",
              " 'lol': 5704,\n",
              " 'small': 8715,\n",
              " 'part': 6876,\n",
              " 'study': 9128,\n",
              " 'graph': 4125,\n",
              " ...}"
            ]
          },
          "metadata": {},
          "execution_count": 145
        }
      ]
    },
    {
      "cell_type": "code",
      "source": [
        "from sklearn.linear_model import LogisticRegression\n",
        "model = LogisticRegression()\n",
        "model.fit(vect_train,y_train)"
      ],
      "metadata": {
        "colab": {
          "base_uri": "https://localhost:8080/"
        },
        "id": "7U2xPHe4nLMp",
        "outputId": "c2f033ba-be09-4704-c8d6-bd17ad64992a"
      },
      "execution_count": 146,
      "outputs": [
        {
          "output_type": "execute_result",
          "data": {
            "text/plain": [
              "LogisticRegression()"
            ]
          },
          "metadata": {},
          "execution_count": 146
        }
      ]
    },
    {
      "cell_type": "code",
      "source": [
        "model.score(vect_train,y_train)"
      ],
      "metadata": {
        "colab": {
          "base_uri": "https://localhost:8080/"
        },
        "id": "SlcPFR9mngIC",
        "outputId": "54928d4d-4c59-4bf2-9839-99e3a823c0b9"
      },
      "execution_count": 147,
      "outputs": [
        {
          "output_type": "execute_result",
          "data": {
            "text/plain": [
              "0.9727322554124418"
            ]
          },
          "metadata": {},
          "execution_count": 147
        }
      ]
    },
    {
      "cell_type": "code",
      "source": [
        "model.score(vect_test,y_test)"
      ],
      "metadata": {
        "colab": {
          "base_uri": "https://localhost:8080/"
        },
        "id": "MLh7tCssnpMJ",
        "outputId": "0c04b22f-c3f8-4ef8-8ed1-bd07537e308d"
      },
      "execution_count": 148,
      "outputs": [
        {
          "output_type": "execute_result",
          "data": {
            "text/plain": [
              "0.8805479452054794"
            ]
          },
          "metadata": {},
          "execution_count": 148
        }
      ]
    },
    {
      "cell_type": "code",
      "source": [
        "from sklearn import metrics\n",
        "print(metrics.classification_report(y_test, model.predict(vect_test)))"
      ],
      "metadata": {
        "colab": {
          "base_uri": "https://localhost:8080/"
        },
        "id": "GPp9-ktFnt6J",
        "outputId": "1d19c280-cef0-4e7f-9516-73a85f53f578"
      },
      "execution_count": 149,
      "outputs": [
        {
          "output_type": "stream",
          "name": "stdout",
          "text": [
            "              precision    recall  f1-score   support\n",
            "\n",
            "          -1       0.83      0.91      0.87       803\n",
            "           1       0.92      0.86      0.89      1022\n",
            "\n",
            "    accuracy                           0.88      1825\n",
            "   macro avg       0.88      0.88      0.88      1825\n",
            "weighted avg       0.88      0.88      0.88      1825\n",
            "\n"
          ]
        }
      ]
    }
  ]
}